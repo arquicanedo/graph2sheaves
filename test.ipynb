{
 "cells": [
  {
   "cell_type": "code",
   "execution_count": 15,
   "metadata": {},
   "outputs": [],
   "source": [
    "from sheaves import *"
   ]
  },
  {
   "cell_type": "code",
   "execution_count": 24,
   "metadata": {},
   "outputs": [
    {
     "name": "stdout",
     "output_type": "stream",
     "text": [
      "Pierce found key=animal in section section=43362791608\n",
      "Pierce found key=animal in section section=43362791832\n",
      "Pierce found key=animal in section section=43362792168\n",
      "Stalk of key=(animal) projection=['the', 'a', 'barks', 'meows', 'that', 'my']\n",
      "Stalk map count = 3\n",
      "[('dog', ['the', 'barks']), ('cat', ['my', 'meows']), ('bird', ['a', 'that'])]\n",
      "animal\n"
     ]
    }
   ],
   "source": [
    "def test_pierce_similar():\n",
    "    sheaf = Sheaf()\n",
    "    section1 = section_from_text('the dog barks')\n",
    "    section2 = section_from_text('my cat meows')\n",
    "    section3 = section_from_text('John has a bird that chirps')\n",
    "    sheaf.add_sections_from([section1, section2, section3])\n",
    "    projected_germ, connectors = sheaf.pierce_similar('animal', [('dog', section1), ('cat', section2), ('bird', section3)])\n",
    "    print(sheaf.stalks[0].seeds)\n",
    "    print(sheaf.stalks[0].projected_germ)\n",
    "    \n",
    "test_pierce_similar()"
   ]
  },
  {
   "cell_type": "code",
   "execution_count": 3,
   "metadata": {},
   "outputs": [
    {
     "name": "stdout",
     "output_type": "stream",
     "text": [
      "Available connectors:  [('a', 'c')]\n",
      "Links:  [('a', 'b', {})]\n",
      "Available connectors:  [('c', 'a')]\n",
      "Links:  [('c', 'd', {})]\n",
      "Available connectors:  []\n",
      "Links:  [('c', 'd', {}), ('c', 'a', {}), ('a', 'b', {})]\n"
     ]
    }
   ],
   "source": [
    "def test_join_sections():\n",
    "    sec1 = Section()\n",
    "    sec1.add_seed('a',['b','c'])\n",
    "    sec1.add_seed('b',['a'])\n",
    "    sec1.add_link('a', 'b')\n",
    "    sec1.connectors()\n",
    "\n",
    "    sec2 = Section()\n",
    "    sec2.add_seed('c', ['d','a'])\n",
    "    sec2.add_seed('d', ['c'])\n",
    "    sec2.add_link('c','d')\n",
    "    sec2.connectors()\n",
    "\n",
    "    sec3 = join_sections(sec2, sec1, 'c', 'a')\n",
    "    sec3.connectors()\n",
    "\n",
    "test_join_sections()"
   ]
  },
  {
   "cell_type": "code",
   "execution_count": 4,
   "metadata": {},
   "outputs": [
    {
     "name": "stdout",
     "output_type": "stream",
     "text": [
      "['a', 'e']\n",
      "Available connectors:  []\n",
      "Links:  [('a', 'x', {}), ('e', 'x', {})]\n"
     ]
    }
   ],
   "source": [
    "def test_graph_quotient():\n",
    "    sec = Section()\n",
    "    sec.add_seed('a', ['b','c','d'])\n",
    "    sec.add_seed('b', ['a','e'])\n",
    "    sec.add_seed('c', ['a','e'])\n",
    "    sec.add_seed('d', ['a','e'])\n",
    "    sec.add_seed('e', ['b','c','d'])\n",
    "    sec.add_links_from([('a','b'),  ('a','c'), ('a','d'), ('e','b'), ('e','c'), ('e', 'd')])\n",
    "    quotient = section_quotient(sec, ['b','c','d'], 'x')\n",
    "    quotient.connectors()\n",
    "\n",
    "test_graph_quotient()"
   ]
  },
  {
   "cell_type": "code",
   "execution_count": 5,
   "metadata": {},
   "outputs": [
    {
     "name": "stdout",
     "output_type": "stream",
     "text": [
      "[('a', ['b', 'c']), ('d', ['e', 'f', 'g', 'h'])]\n",
      "('x', ['f', 'g', 'b', 'h', 'e', 'c'])\n"
     ]
    }
   ],
   "source": [
    "def test_stalk():\n",
    "    stalk = Stalk('x')\n",
    "    stalk.add_seed('a', ['b','c'])\n",
    "    stalk.add_seed('d', ['e','f','g','h'])\n",
    "    print(stalk.seeds)\n",
    "    print(stalk.projection())\n",
    "    \n",
    "test_stalk()"
   ]
  },
  {
   "cell_type": "code",
   "execution_count": 6,
   "metadata": {},
   "outputs": [
    {
     "name": "stdout",
     "output_type": "stream",
     "text": [
      "[('foo', ['f', 'e', 'b', 'c']), ('bar', ['y', 'z', 'v', 'u']), ('zar', ['n', 'o'])]\n"
     ]
    }
   ],
   "source": [
    "def test_stalkfield():\n",
    "    stalk1 = Stalk('foo')\n",
    "    stalk1.add_seed('a', ['b','c'])\n",
    "    stalk1.add_seed('d', ['e','f'])\n",
    "    stalk2 = Stalk('bar')\n",
    "    stalk2.add_seed('x', ['y','z'])\n",
    "    stalk2.add_seed('w', ['u','v'])\n",
    "    stalk3 = Stalk('zar')\n",
    "    stalk3.add_seed('m', ['n', 'o'])\n",
    "    stalkfield = StalkField()\n",
    "    stalkfield.add_stalk(stalk1)\n",
    "    stalkfield.add_stalk(stalk2)\n",
    "    stalkfield.add_stalk(stalk3)\n",
    "    print(stalkfield.projection())\n",
    "\n",
    "test_stalkfield()"
   ]
  },
  {
   "cell_type": "code",
   "execution_count": 7,
   "metadata": {},
   "outputs": [
    {
     "name": "stdout",
     "output_type": "stream",
     "text": [
      "Pierce found key=fly in section layer=0 section=43362003600\n",
      "Pierce found key=fly in section layer=1 section=43362003712\n",
      "Pierce found key=fly in section layer=2 section=43362003880\n",
      "Pierce found key=fly in section layer=3 section=43362004104\n",
      "Pierce found key=fly in section layer=4 section=43362004328\n",
      "Pierce found key=fly in section layer=5 section=43362004552\n",
      "Pierce found key=fly in section layer=6 section=43362004776\n",
      "Pierce found key=fly in section layer=7 section=43362185288\n",
      "Stalk of key=(fly) projection=['away', 'sparks', 'ash', 'fishing', 'a', 'that', 'to', 'helicopters', 'like', 'lets']\n",
      "Stalk map count = 8\n",
      "Pierce found key=a in section layer=0 section=43362003600\n",
      "Pierce found key=a in section layer=6 section=43362004776\n",
      "Stalk of key=(a) projection=['like', 'fly', 'butterfly', 'kite']\n",
      "Stalk map count = 2\n",
      "8\n",
      "2\n"
     ]
    }
   ],
   "source": [
    "def test_sheaf():\n",
    "    sheaf = Sheaf()\n",
    "    section1 = section_from_text('fly like a butterfly')\n",
    "    section2 = section_from_text('airplanes that fly')\n",
    "    section3 = section_from_text('fly fishing')\n",
    "    section4 = section_from_text('fly away home')\n",
    "    section5 = section_from_text('fly ash in concrete')\n",
    "    section6 = section_from_text('when sparks fly')\n",
    "    section7 = section_from_text('lets fly a kite')\n",
    "    section8 = section_from_text('learn to fly helicopters')\n",
    "    sheaf.add_sections_from([section1, section2, section3, section4, section5, section6, section7, section8])\n",
    "    sheaf.pierce('fly')\n",
    "    sheaf.pierce('a')\n",
    "    print(len(sheaf.sections))\n",
    "    print(len(sheaf.stalks))\n",
    "    \n",
    "test_sheaf()"
   ]
  },
  {
   "cell_type": "code",
   "execution_count": 8,
   "metadata": {},
   "outputs": [
    {
     "name": "stdout",
     "output_type": "stream",
     "text": [
      "open subgraph: [('b', {'connectors': ['a', 'd']}), ('c', {'connectors': ['a', 'd']})] links [('b', 'c')]\n",
      "open subgraph: [('a', {'connectors': ['b', 'c']}), ('d', {'connectors': ['b', 'c']})] links []\n",
      "open subgraph: [('a', {'connectors': ['c']}), ('b', {'connectors': ['c', 'd']})] links [('a', 'b')]\n",
      "open subgraph: [('a', {'connectors': []}), ('b', {'connectors': []}), ('c', {'connectors': []}), ('d', {'connectors': []})] links [('a', 'b'), ('a', 'c'), ('b', 'c'), ('b', 'd'), ('c', 'd')]\n",
      "open subgraph: [('a', {'connectors': ['b', 'c']})] links []\n",
      "open subgraph: [('a', {'connectors': ['b']}), ('c', {'connectors': ['b']}), ('d', {'connectors': ['b']})] links [('a', 'c'), ('c', 'd')]\n",
      "['a', 'c', 'd'] [('a', 'c'), ('c', 'd')]\n",
      "open subgraph: [('a', {'connectors': ['c']}), ('d', {'connectors': ['c']})] links []\n",
      "['a', 'd'] []\n"
     ]
    }
   ],
   "source": [
    "def test_open_subgraph():\n",
    "    G = nx.Graph()\n",
    "    G.add_edges_from([('a','b'), ('a','c'), ('b','c'), ('b','d'), ('c','d')])\n",
    "    \n",
    "    section = open_subgraph(G, ['b','c'])\n",
    "    section = open_subgraph(G, ['a','d'])\n",
    "    section = open_subgraph(G, ['a','b'])\n",
    "    section = open_subgraph(G, ['a','b','c','d'])\n",
    "\n",
    "    # Claim: res_{U,U}:F(U)->F(U) is the identity of F(U)\n",
    "    section = open_subgraph(G, ['a'])\n",
    "\n",
    "    # Claim: For a sequence of open subgraphs the restrictions compose \n",
    "    H = open_subgraph(G, ['a', 'c', 'd']).build_graph()\n",
    "    print(H.nodes(), H.edges())\n",
    "    I = open_subgraph(H, ['a', 'd']).build_graph()\n",
    "    print(I.nodes(), I.edges())\n",
    "\n",
    "test_open_subgraph()"
   ]
  },
  {
   "cell_type": "code",
   "execution_count": 9,
   "metadata": {},
   "outputs": [
    {
     "name": "stdout",
     "output_type": "stream",
     "text": [
      "open subgraph: [('a', {'connectors': []}), ('b', {'connectors': []}), ('c', {'connectors': []}), ('d', {'connectors': []})] links [('a', 'b'), ('a', 'c'), ('b', 'c'), ('b', 'd'), ('c', 'd')]\n",
      "open subgraph: [('a', {'connectors': ['c']}), ('b', {'connectors': ['c', 'd']})] links [('a', 'b')]\n",
      "open subgraph: [('b', {'connectors': ['a', 'd']}), ('c', {'connectors': ['a', 'd']})] links [('b', 'c')]\n",
      "Pierce found key=a in section layer=0 section=43362003992\n",
      "Stalk of key=(a) projection=['b', 'c']\n",
      "Stalk map count = 1\n",
      "Pierce found key=b in section layer=0 section=43362003992\n",
      "Pierce found key=b in section layer=1 section=43362004104\n",
      "Stalk of key=(b) projection=['d', 'a', 'c']\n",
      "Stalk map count = 2\n",
      "Pierce found key=c in section layer=1 section=43362004104\n",
      "Stalk of key=(c) projection=['d', 'a', 'b']\n",
      "Stalk map count = 1\n",
      "Stalk of key=(d) projection=[]\n",
      "Stalk map count = 0\n",
      "(<sheaves.Section object at 0xa1893abe0>, False)\n",
      "open subgraph: [('d', {'connectors': ['b', 'c']})] links []\n",
      "Pierce found key=a in section layer=0 section=43362003992\n",
      "Stalk of key=(a) projection=['b', 'c']\n",
      "Stalk map count = 1\n",
      "Pierce found key=b in section layer=0 section=43362003992\n",
      "Pierce found key=b in section layer=1 section=43362004104\n",
      "Stalk of key=(b) projection=['d', 'a', 'c']\n",
      "Stalk map count = 2\n",
      "Pierce found key=c in section layer=1 section=43362004104\n",
      "Stalk of key=(c) projection=['d', 'a', 'b']\n",
      "Stalk map count = 1\n",
      "Pierce found key=d in section layer=2 section=43362003880\n",
      "Stalk of key=(d) projection=['b', 'c']\n",
      "Stalk map count = 1\n",
      "(<sheaves.Section object at 0xa1893ab38>, True)\n",
      "Pierce found key=a in section layer=0 section=43362004160\n",
      "Stalk of key=(a) projection=['b', 'c']\n",
      "Stalk map count = 1\n",
      "Pierce found key=b in section layer=0 section=43362004160\n",
      "Stalk of key=(b) projection=['d', 'a', 'c']\n",
      "Stalk map count = 1\n",
      "Pierce found key=c in section layer=0 section=43362004160\n",
      "Stalk of key=(c) projection=['d', 'a', 'b']\n",
      "Stalk map count = 1\n",
      "Pierce found key=d in section layer=0 section=43362004160\n",
      "Stalk of key=(d) projection=['b', 'c']\n",
      "Stalk map count = 1\n",
      "(<sheaves.Section object at 0xa1893aa20>, True)\n"
     ]
    }
   ],
   "source": [
    "def test_open_cover():\n",
    "    G = nx.Graph()\n",
    "    G.add_edges_from([('a','b'), ('a','c'), ('b','c'), ('b','d'), ('c','d')])\n",
    "    os_original = open_subgraph(G, ['a','b','c','d'])\n",
    "    os1 = open_subgraph(G, ['a','b'])\n",
    "    os2 = open_subgraph(G, ['b','c'])\n",
    "    print(open_cover(os_original, [os1, os2]))\n",
    "    os3 = open_subgraph(G, ['d'])\n",
    "    print(open_cover(os_original, [os1, os2, os3]))\n",
    "    print(open_cover(os_original, [os_original]))\n",
    "\n",
    "test_open_cover()"
   ]
  },
  {
   "cell_type": "code",
   "execution_count": 10,
   "metadata": {},
   "outputs": [
    {
     "name": "stdout",
     "output_type": "stream",
     "text": [
      "Pierce found key=away in section layer=3 section=43362004552\n",
      "Stalk of key=(away) projection=['fly', 'home']\n",
      "Stalk map count = 1\n",
      "Pierce found key=a in section layer=0 section=43362003264\n",
      "Pierce found key=a in section layer=6 section=43362003376\n",
      "Stalk of key=(a) projection=['like', 'fly', 'butterfly', 'kite']\n",
      "Stalk map count = 2\n",
      "Pierce found key=fishing in section layer=2 section=43362004888\n",
      "Stalk of key=(fishing) projection=['fly']\n",
      "Stalk map count = 1\n",
      "Pierce found key=helicopters in section layer=7 section=43362003600\n",
      "Stalk of key=(helicopters) projection=['fly']\n",
      "Stalk map count = 1\n",
      "Pierce found key=home in section layer=3 section=43362004552\n",
      "Stalk of key=(home) projection=['away']\n",
      "Stalk map count = 1\n",
      "Pierce found key=learn in section layer=7 section=43362003600\n",
      "Stalk of key=(learn) projection=['to']\n",
      "Stalk map count = 1\n",
      "Pierce found key=that in section layer=1 section=43362002872\n",
      "Stalk of key=(that) projection=['fly', 'airplanes']\n",
      "Stalk map count = 1\n",
      "Pierce found key=in in section layer=4 section=43362004384\n",
      "Stalk of key=(in) projection=['concrete', 'ash']\n",
      "Stalk map count = 1\n",
      "Pierce found key=fly in section layer=0 section=43362003264\n",
      "Pierce found key=fly in section layer=1 section=43362002872\n",
      "Pierce found key=fly in section layer=2 section=43362004888\n",
      "Pierce found key=fly in section layer=3 section=43362004552\n",
      "Pierce found key=fly in section layer=4 section=43362004384\n",
      "Pierce found key=fly in section layer=5 section=43362003880\n",
      "Pierce found key=fly in section layer=6 section=43362003376\n",
      "Pierce found key=fly in section layer=7 section=43362003600\n",
      "Stalk of key=(fly) projection=['away', 'sparks', 'ash', 'fishing', 'a', 'that', 'to', 'helicopters', 'like', 'lets']\n",
      "Stalk map count = 8\n",
      "Pierce found key=airplanes in section layer=1 section=43362002872\n",
      "Stalk of key=(airplanes) projection=['that']\n",
      "Stalk map count = 1\n",
      "Pierce found key=when in section layer=5 section=43362003880\n",
      "Stalk of key=(when) projection=['sparks']\n",
      "Stalk map count = 1\n",
      "Pierce found key=sparks in section layer=5 section=43362003880\n",
      "Stalk of key=(sparks) projection=['fly', 'when']\n",
      "Stalk map count = 1\n",
      "Pierce found key=ash in section layer=4 section=43362004384\n",
      "Stalk of key=(ash) projection=['fly', 'in']\n",
      "Stalk map count = 1\n",
      "Pierce found key=to in section layer=7 section=43362003600\n",
      "Stalk of key=(to) projection=['learn', 'fly']\n",
      "Stalk map count = 1\n",
      "Pierce found key=like in section layer=0 section=43362003264\n",
      "Stalk of key=(like) projection=['fly', 'a']\n",
      "Stalk map count = 1\n",
      "Pierce found key=lets in section layer=6 section=43362003376\n",
      "Stalk of key=(lets) projection=['fly']\n",
      "Stalk map count = 1\n",
      "Pierce found key=butterfly in section layer=0 section=43362003264\n",
      "Stalk of key=(butterfly) projection=['a']\n",
      "Stalk map count = 1\n",
      "Pierce found key=kite in section layer=6 section=43362003376\n",
      "Stalk of key=(kite) projection=['a']\n",
      "Stalk map count = 1\n",
      "Pierce found key=concrete in section layer=4 section=43362004384\n",
      "Stalk of key=(concrete) projection=['in']\n",
      "Stalk map count = 1\n",
      "Available connectors:  []\n",
      "Links:  [('away', 'home', {}), ('away', 'fly', {}), ('a', 'fly', {}), ('a', 'like', {}), ('a', 'butterfly', {}), ('a', 'kite', {}), ('fishing', 'fly', {}), ('helicopters', 'fly', {}), ('learn', 'to', {}), ('that', 'fly', {}), ('that', 'airplanes', {}), ('in', 'ash', {}), ('in', 'concrete', {}), ('fly', 'sparks', {}), ('fly', 'ash', {}), ('fly', 'to', {}), ('fly', 'like', {}), ('fly', 'lets', {}), ('when', 'sparks', {})]\n",
      "None\n"
     ]
    }
   ],
   "source": [
    "def test_sheaf_from_sections():\n",
    "    sheaf = Sheaf()\n",
    "    section1 = section_from_text('fly like a butterfly')\n",
    "    section2 = section_from_text('airplanes that fly')\n",
    "    section3 = section_from_text('fly fishing')\n",
    "    section4 = section_from_text('fly away home')\n",
    "    section5 = section_from_text('fly ash in concrete')\n",
    "    section6 = section_from_text('when sparks fly')\n",
    "    section7 = section_from_text('lets fly a kite')\n",
    "    section8 = section_from_text('learn to fly helicopters')\n",
    "    sheaf.add_sections_from([section1, section2, section3, section4, section5, section6, section7, section8])\n",
    "    sheaf_projection = sheaf.pierce_all_sections()\n",
    "    print(sheaf_projection.connectors())\n",
    "    #sheaf.dot()\n",
    "\n",
    "test_sheaf_from_sections()"
   ]
  },
  {
   "cell_type": "code",
   "execution_count": 11,
   "metadata": {},
   "outputs": [
    {
     "name": "stdout",
     "output_type": "stream",
     "text": [
      "Pierce found key=Tampines in section layer=2 section=43362159024\n",
      "Pierce found key=Tampines in section layer=3 section=43362158968\n",
      "Stalk of key=(Tampines) projection=['McPherson', 'Expo', 'Tanah-Merah']\n",
      "Stalk map count = 2\n",
      "Pierce found key=Expo in section layer=1 section=43362158688\n",
      "Pierce found key=Expo in section layer=3 section=43362158968\n",
      "Stalk of key=(Expo) projection=['Tampines', 'Tanah-Merah', 'Changi-Airport']\n",
      "Stalk map count = 2\n",
      "Pierce found key=Dhoby-Gaut in section layer=4 section=43362158632\n",
      "Stalk of key=(Dhoby-Gaut) projection=['Chinatown', 'Little-India']\n",
      "Stalk map count = 1\n",
      "Pierce found key=Bishan in section layer=0 section=43362158800\n",
      "Pierce found key=Bishan in section layer=5 section=43362160144\n",
      "Stalk of key=(Bishan) projection=['Jurong-East', 'Serangoon', 'Botanic-Gardens', 'Newton']\n",
      "Stalk map count = 2\n",
      "Pierce found key=Botanic-Gardens in section layer=3 section=43362158968\n",
      "Pierce found key=Botanic-Gardens in section layer=5 section=43362160144\n",
      "Stalk of key=(Botanic-Gardens) projection=['Buona-Vista', 'Bishan', 'Newton']\n",
      "Stalk map count = 2\n",
      "Pierce found key=Bayfront in section layer=3 section=43362158968\n",
      "Pierce found key=Bayfront in section layer=5 section=43362160144\n",
      "Stalk of key=(Bayfront) projection=['Marina-Bay', 'Promenade', 'Chinatown']\n",
      "Stalk map count = 2\n",
      "Pierce found key=HarbourFront in section layer=4 section=43362158632\n",
      "Pierce found key=HarbourFront in section layer=5 section=43362160144\n",
      "Stalk of key=(HarbourFront) projection=['Marina-Bay', 'Buona-Vista', 'Outram-Park']\n",
      "Stalk map count = 2\n",
      "Pierce found key=Promenade in section layer=3 section=43362158968\n",
      "Pierce found key=Promenade in section layer=5 section=43362160144\n",
      "Pierce found key=Promenade in section layer=6 section=43362159920\n",
      "Stalk of key=(Promenade) projection=['Paya-Lebar', 'Bugis', 'Bayfront', 'Dhoby-Ghaut']\n",
      "Stalk map count = 3\n",
      "Pierce found key=Serangoon in section layer=4 section=43362158632\n",
      "Pierce found key=Serangoon in section layer=5 section=43362160144\n",
      "Stalk of key=(Serangoon) projection=['McPherson', 'Bishan', 'Little-India']\n",
      "Stalk map count = 2\n",
      "Pierce found key=Little-India in section layer=3 section=43362158968\n",
      "Pierce found key=Little-India in section layer=4 section=43362158632\n",
      "Stalk of key=(Little-India) projection=['Dhoby-Gaut', 'Bugis', 'Serangoon', 'Newton']\n",
      "Stalk map count = 2\n",
      "Pierce found key=Jurong-East in section layer=0 section=43362158800\n",
      "Pierce found key=Jurong-East in section layer=1 section=43362158688\n",
      "Stalk of key=(Jurong-East) projection=['Buona-Vista', 'Bishan']\n",
      "Stalk map count = 2\n",
      "Pierce found key=Dhoby-Ghaut in section layer=0 section=43362158800\n",
      "Pierce found key=Dhoby-Ghaut in section layer=6 section=43362159920\n",
      "Stalk of key=(Dhoby-Ghaut) projection=['Promenade', 'City-Hall', 'Newton']\n",
      "Stalk map count = 2\n",
      "Pierce found key=Marina-Bay in section layer=0 section=43362158800\n",
      "Pierce found key=Marina-Bay in section layer=5 section=43362160144\n",
      "Stalk of key=(Marina-Bay) projection=['Raffles-Place', 'HarbourFront']\n",
      "Stalk map count = 2\n",
      "Pierce found key=McPherson in section layer=3 section=43362158968\n",
      "Pierce found key=McPherson in section layer=5 section=43362160144\n",
      "Stalk of key=(McPherson) projection=['Tampines', 'Paya-Lebar', 'Serangoon', 'Chinatown']\n",
      "Stalk map count = 2\n",
      "Pierce found key=Outram-Park in section layer=1 section=43362158688\n",
      "Pierce found key=Outram-Park in section layer=4 section=43362158632\n",
      "Stalk of key=(Outram-Park) projection=['Chinatown', 'Buona-Vista', 'Raffles-Place', 'HarbourFront']\n",
      "Stalk map count = 2\n",
      "Pierce found key=Tanah-Merah in section layer=1 section=43362158688\n",
      "Pierce found key=Tanah-Merah in section layer=2 section=43362159024\n",
      "Stalk of key=(Tanah-Merah) projection=['Tampines', 'Expo', 'Paya-Lebar']\n",
      "Stalk map count = 2\n",
      "Pierce found key=Changi-Airport in section layer=1 section=43362158688\n",
      "Stalk of key=(Changi-Airport) projection=['Expo']\n",
      "Stalk map count = 1\n",
      "Pierce found key=City-Hall in section layer=0 section=43362158800\n",
      "Pierce found key=City-Hall in section layer=1 section=43362158688\n",
      "Stalk of key=(City-Hall) projection=['Dhoby-Ghaut', 'Raffles-Place', 'Bugis']\n",
      "Stalk map count = 2\n",
      "Pierce found key=Chinatown in section layer=3 section=43362158968\n",
      "Pierce found key=Chinatown in section layer=4 section=43362158632\n",
      "Stalk of key=(Chinatown) projection=['McPherson', 'Dhoby-Gaut', 'Bayfront', 'Outram-Park']\n",
      "Stalk map count = 2\n",
      "Pierce found key=Paya-Lebar in section layer=1 section=43362158688\n",
      "Pierce found key=Paya-Lebar in section layer=5 section=43362160144\n",
      "Stalk of key=(Paya-Lebar) projection=['McPherson', 'Promenade', 'Bugis', 'Tanah-Merah']\n",
      "Stalk map count = 2\n",
      "Pierce found key=Newton in section layer=0 section=43362158800\n",
      "Pierce found key=Newton in section layer=3 section=43362158968\n",
      "Stalk of key=(Newton) projection=['Botanic-Gardens', 'Dhoby-Ghaut', 'Bishan', 'Little-India']\n",
      "Stalk map count = 2\n",
      "Pierce found key=Bugis in section layer=1 section=43362158688\n",
      "Pierce found key=Bugis in section layer=3 section=43362158968\n",
      "Stalk of key=(Bugis) projection=['City-Hall', 'Promenade', 'Paya-Lebar', 'Little-India']\n",
      "Stalk map count = 2\n",
      "Pierce found key=Raffles-Place in section layer=0 section=43362158800\n",
      "Pierce found key=Raffles-Place in section layer=1 section=43362158688\n",
      "Stalk of key=(Raffles-Place) projection=['Marina-Bay', 'City-Hall', 'Outram-Park']\n",
      "Stalk map count = 2\n",
      "Pierce found key=Buona-Vista in section layer=1 section=43362158688\n",
      "Pierce found key=Buona-Vista in section layer=5 section=43362160144\n",
      "Stalk of key=(Buona-Vista) projection=['Jurong-East', 'Botanic-Gardens', 'HarbourFront', 'Outram-Park']\n",
      "Stalk map count = 2\n"
     ]
    }
   ],
   "source": [
    "def test_metro_stations():\n",
    "    # Singapore Simplified\n",
    "    # https://en.wikipedia.org/wiki/List_of_Singapore_MRT_stations#/media/File:Singapore_MRT_and_LRT_System_Map.svg\n",
    "    sheaf = Sheaf()\n",
    "    red = section_from_text('Jurong-East Bishan Newton Dhoby-Ghaut City-Hall Raffles-Place Marina-Bay')\n",
    "    green = section_from_text('Jurong-East Buona-Vista Outram-Park Raffles-Place City-Hall Bugis Paya-Lebar Tanah-Merah Expo Changi-Airport')\n",
    "    green2 = section_from_text('Tanah-Merah Tampines')\n",
    "    blue = section_from_text('Botanic-Gardens Newton Little-India Bugis Promenade Bayfront Chinatown McPherson Tampines Expo')\n",
    "    purple = section_from_text('Serangoon Little-India Dhoby-Gaut Chinatown Outram-Park HarbourFront')\n",
    "    orange = section_from_text('Marina-Bay Bayfront Promenade Paya-Lebar McPherson Serangoon Bishan Botanic-Gardens Buona-Vista HarbourFront Marina-Bay')\n",
    "    orange2 = section_from_text('Dhoby-Ghaut Promenade')\n",
    "    sheaf.add_sections_from([red, green, green2, blue, purple, orange, orange2])\n",
    "    sheaf_projection = sheaf.pierce_all_sections()\n",
    "    #sheaf.dot()\n",
    "\n",
    "test_metro_stations()"
   ]
  },
  {
   "cell_type": "code",
   "execution_count": null,
   "metadata": {},
   "outputs": [],
   "source": []
  }
 ],
 "metadata": {
  "kernelspec": {
   "display_name": "Python 3",
   "language": "python",
   "name": "python3"
  },
  "language_info": {
   "codemirror_mode": {
    "name": "ipython",
    "version": 3
   },
   "file_extension": ".py",
   "mimetype": "text/x-python",
   "name": "python",
   "nbconvert_exporter": "python",
   "pygments_lexer": "ipython3",
   "version": "3.7.1"
  }
 },
 "nbformat": 4,
 "nbformat_minor": 2
}
